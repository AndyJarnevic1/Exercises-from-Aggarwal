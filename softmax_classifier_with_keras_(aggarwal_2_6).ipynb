{
  "nbformat": 4,
  "nbformat_minor": 0,
  "metadata": {
    "colab": {
      "provenance": [],
      "authorship_tag": "ABX9TyN8zb8HDCMgUKL4FbfFFGIm",
      "include_colab_link": true
    },
    "kernelspec": {
      "name": "python3",
      "display_name": "Python 3"
    },
    "language_info": {
      "name": "python"
    }
  },
  "cells": [
    {
      "cell_type": "markdown",
      "metadata": {
        "id": "view-in-github",
        "colab_type": "text"
      },
      "source": [
        "<a href=\"https://colab.research.google.com/github/AndyJarnevic1/Exercises-from-Aggarwal/blob/main/softmax_classifier_with_keras_(aggarwal_2_6).ipynb\" target=\"_parent\"><img src=\"https://colab.research.google.com/assets/colab-badge.svg\" alt=\"Open In Colab\"/></a>"
      ]
    },
    {
      "cell_type": "code",
      "execution_count": 4,
      "metadata": {
        "colab": {
          "base_uri": "https://localhost:8080/"
        },
        "id": "mBx6FQxDQrEo",
        "outputId": "4fe01ab9-4258-4c22-8328-48a3c2024077"
      },
      "outputs": [
        {
          "output_type": "execute_result",
          "data": {
            "text/plain": [
              "<keras.src.engine.sequential.Sequential at 0x79c47e0ad5a0>"
            ]
          },
          "metadata": {},
          "execution_count": 4
        }
      ],
      "source": [
        "from keras import Sequential\n",
        "from keras.layers import Dense\n",
        "def make_model(size_input, number_categories):\n",
        "  model = Sequential()\n",
        "  model.add(Dense(number_categories, input_shape = (size_input,), activation = 'softmax'))\n",
        "  model.compile(loss = 'categorical_crossentropy', optimizer = 'sgd')\n",
        "  return model\n",
        "make_model(727,10)"
      ]
    }
  ]
}
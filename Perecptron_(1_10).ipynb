{
  "nbformat": 4,
  "nbformat_minor": 0,
  "metadata": {
    "colab": {
      "provenance": [],
      "authorship_tag": "ABX9TyNuO6Vsyt54r4XnhoAj2T/Q",
      "include_colab_link": true
    },
    "kernelspec": {
      "name": "python3",
      "display_name": "Python 3"
    },
    "language_info": {
      "name": "python"
    }
  },
  "cells": [
    {
      "cell_type": "markdown",
      "metadata": {
        "id": "view-in-github",
        "colab_type": "text"
      },
      "source": [
        "<a href=\"https://colab.research.google.com/github/AndyJarnevic1/Exercises-from-Aggarwal/blob/main/Perecptron_(1_10).ipynb\" target=\"_parent\"><img src=\"https://colab.research.google.com/assets/colab-badge.svg\" alt=\"Open In Colab\"/></a>"
      ]
    },
    {
      "cell_type": "code",
      "execution_count": 1,
      "metadata": {
        "colab": {
          "base_uri": "https://localhost:8080/"
        },
        "id": "GYCFlccieN7p",
        "outputId": "41d2836a-4626-4fad-e0d5-e18949433405"
      },
      "outputs": [
        {
          "output_type": "stream",
          "name": "stdout",
          "text": [
            "921\n",
            "861\n"
          ]
        }
      ],
      "source": [
        "import numpy as np\n",
        "np.random.seed(209)\n",
        "def sign(number):\n",
        "  if number == 0:\n",
        "    return 1.0\n",
        "  else:\n",
        "    return number/abs(number)\n",
        "class perceptron:\n",
        "  def __init__(self, alpha):\n",
        "    self.alpha = alpha\n",
        "    self.params = None\n",
        "  def update(self, inputs, correct):\n",
        "    if self.params is None:\n",
        "      self.params = np.zeros(len(inputs))\n",
        "    self.params = self.alpha * (correct - sign(np.dot(self.params, inputs))) * inputs + self.params\n",
        "  def hinge_update(self, inputs, correct):\n",
        "    if self.params is None:\n",
        "      self.params = np.zeros(len(inputs))\n",
        "    if 1-correct*(np.dot(self.params,inputs)) < 0:\n",
        "      self.params = self.params\n",
        "    else:\n",
        "      self.params = self.params + self.alpha * correct * inputs\n",
        "  def predict(self, inputs):\n",
        "    return sign(np.dot(self.params, inputs))\n",
        "perc = perceptron(1)\n",
        "perc_hinge = perceptron(1)\n",
        "points = []\n",
        "corrects = []\n",
        "for _ in range(20):\n",
        "  point = np.array([np.random.uniform(0,1), np.random.uniform(0,1)])\n",
        "  points.append(point)\n",
        "  if point[0] > point[1]:\n",
        "    corrects.append(1)\n",
        "  else:\n",
        "    corrects.append(-1)\n",
        "points_array = np.array(points)\n",
        "corrects_array = np.array(corrects)\n",
        "for i in range(20):\n",
        "  perc.update(points_array[i],corrects_array[i])\n",
        "test_points = []\n",
        "test_corrects = []\n",
        "for _ in range(1000):\n",
        "  point = np.array([np.random.uniform(0,1), np.random.uniform(0,1)])\n",
        "  test_points.append(point)\n",
        "  if point[0] > point[1]:\n",
        "    test_corrects.append(1)\n",
        "  else:\n",
        "    test_corrects.append(-1)\n",
        "test_points_array = np.array(test_points)\n",
        "test_corrects_array = np.array(test_corrects)\n",
        "num_correct = 0\n",
        "for i in range(1000):\n",
        "  if perc.predict(test_points_array[i]) == test_corrects_array[i]:\n",
        "    num_correct = num_correct + 1\n",
        "print(num_correct)\n",
        "num_correct_hinge = 0\n",
        "for i in range(20):\n",
        "  perc_hinge.hinge_update(points_array[i],corrects_array[i])\n",
        "for i in range(1000):\n",
        "  if perc_hinge.predict(test_points_array[i]) == test_corrects_array[i]:\n",
        "    num_correct_hinge = num_correct_hinge + 1\n",
        "print(num_correct_hinge)\n",
        "\n",
        "\n"
      ]
    }
  ]
}